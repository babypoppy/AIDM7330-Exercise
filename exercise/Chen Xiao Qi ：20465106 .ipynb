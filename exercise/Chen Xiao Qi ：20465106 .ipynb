{
 "cells": [
  {
   "cell_type": "markdown",
   "metadata": {},
   "source": [
    "# My first assignment\n",
    "Student's details:\n",
    " * Name:Chen Xiao Qi\n",
    " * Student ID:20465106 "
   ]
  },
  {
   "cell_type": "code",
   "execution_count": 4,
   "metadata": {},
   "outputs": [
    {
     "name": "stdout",
     "output_type": "stream",
     "text": [
      "Enter your height(m)1.59\n",
      "Enter your weight(kg)56\n",
      "Your weight:56.0(kg)\n",
      "Your height:1.59(m)\n",
      "Your BMI is: 22.151022507021082\n"
     ]
    }
   ],
   "source": [
    "h=float(input(\"Enter your height(m)\"))\n",
    "w=float(input('Enter your weight(kg)'))\n",
    "print('Your weight:%s(kg)'%(w))\n",
    "print('Your height:%s(m)'%(h))\n",
    "BMI=w/pow(h,2)\n",
    "print('Your BMI is:',BMI)"
   ]
  },
  {
   "cell_type": "code",
   "execution_count": null,
   "metadata": {},
   "outputs": [],
   "source": []
  }
 ],
 "metadata": {
  "kernelspec": {
   "display_name": "Python 3",
   "language": "python",
   "name": "python3"
  },
  "language_info": {
   "codemirror_mode": {
    "name": "ipython",
    "version": 3
   },
   "file_extension": ".py",
   "mimetype": "text/x-python",
   "name": "python",
   "nbconvert_exporter": "python",
   "pygments_lexer": "ipython3",
   "version": "3.8.3"
  }
 },
 "nbformat": 4,
 "nbformat_minor": 4
}
