{
 "cells": [
  {
   "cell_type": "markdown",
   "metadata": {},
   "source": [
    "# AIMD7330 Quiz5\n",
    "+ Student ID:20465016\n",
    "+ Name: Chen xiaoqi"
   ]
  },
  {
   "cell_type": "code",
   "execution_count": 1,
   "metadata": {},
   "outputs": [
    {
     "name": "stdout",
     "output_type": "stream",
     "text": [
      "Requirement already up-to-date: ibm_watson in /Users/a/opt/anaconda3/lib/python3.8/site-packages (4.7.1)\n",
      "Requirement already satisfied, skipping upgrade: ibm-cloud-sdk-core==1.7.3 in /Users/a/opt/anaconda3/lib/python3.8/site-packages (from ibm_watson) (1.7.3)\n",
      "Requirement already satisfied, skipping upgrade: python-dateutil>=2.5.3 in /Users/a/opt/anaconda3/lib/python3.8/site-packages (from ibm_watson) (2.8.1)\n",
      "Requirement already satisfied, skipping upgrade: requests<3.0,>=2.0 in /Users/a/opt/anaconda3/lib/python3.8/site-packages (from ibm_watson) (2.24.0)\n",
      "Requirement already satisfied, skipping upgrade: websocket-client==0.48.0 in /Users/a/opt/anaconda3/lib/python3.8/site-packages (from ibm_watson) (0.48.0)\n",
      "Requirement already satisfied, skipping upgrade: PyJWT>=1.7.1 in /Users/a/opt/anaconda3/lib/python3.8/site-packages (from ibm-cloud-sdk-core==1.7.3->ibm_watson) (1.7.1)\n",
      "Requirement already satisfied, skipping upgrade: six>=1.5 in /Users/a/opt/anaconda3/lib/python3.8/site-packages (from python-dateutil>=2.5.3->ibm_watson) (1.15.0)\n",
      "Requirement already satisfied, skipping upgrade: chardet<4,>=3.0.2 in /Users/a/opt/anaconda3/lib/python3.8/site-packages (from requests<3.0,>=2.0->ibm_watson) (3.0.4)\n",
      "Requirement already satisfied, skipping upgrade: idna<3,>=2.5 in /Users/a/opt/anaconda3/lib/python3.8/site-packages (from requests<3.0,>=2.0->ibm_watson) (2.10)\n",
      "Requirement already satisfied, skipping upgrade: certifi>=2017.4.17 in /Users/a/opt/anaconda3/lib/python3.8/site-packages (from requests<3.0,>=2.0->ibm_watson) (2020.6.20)\n",
      "Requirement already satisfied, skipping upgrade: urllib3!=1.25.0,!=1.25.1,<1.26,>=1.21.1 in /Users/a/opt/anaconda3/lib/python3.8/site-packages (from requests<3.0,>=2.0->ibm_watson) (1.25.9)\n"
     ]
    }
   ],
   "source": [
    "import sys\n",
    "!{sys.executable} -m pip install --upgrade ibm_watson\n",
    "\n",
    "import json\n",
    "import os\n",
    "from ibm_watson import VisualRecognitionV3\n",
    "from ibm_cloud_sdk_core.authenticators import IAMAuthenticator"
   ]
  },
  {
   "cell_type": "markdown",
   "metadata": {},
   "source": [
    "## Authentication and authorization"
   ]
  },
  {
   "cell_type": "code",
   "execution_count": 9,
   "metadata": {},
   "outputs": [],
   "source": [
    "credentials = {\n",
    "  \"apikey\": \"I4Dx73kEwTwjDMGp2sbBzxyFxQP-aPT4Pjwds6YP8tPD\",\n",
    "  \"iam_apikey_description\": \"Auto-generated for key 00c05df3-3b1d-4db9-89a0-f7a6548f2d05\",\n",
    "  \"iam_apikey_name\": \"Auto-generated service credentials\",\n",
    "  \"iam_role_crn\": \"crn:v1:bluemix:public:iam::::serviceRole:Manager\",\n",
    "  \"iam_serviceid_crn\": \"crn:v1:bluemix:public:iam-identity::a/21204eae9ef34040ab7382558c233744::serviceid:ServiceId-e4d8101e-8c88-4639-a124-6dcd3d10ff4a\",\n",
    "  \"url\": \"https://api.us-south.visual-recognition.watson.cloud.ibm.com/instances/e609cc30-5771-43c4-a708-b7c4c02f39a6\"\n",
    "}"
   ]
  },
  {
   "cell_type": "code",
   "execution_count": 10,
   "metadata": {},
   "outputs": [],
   "source": [
    "authenticator = IAMAuthenticator(credentials['apikey'])\n",
    "\n",
    "service = VisualRecognitionV3(\n",
    "    '2016-05-20', authenticator=authenticator) \n",
    "\n",
    "service.set_service_url(credentials['url'])"
   ]
  },
  {
   "cell_type": "markdown",
   "metadata": {},
   "source": [
    "## Classification"
   ]
  },
  {
   "cell_type": "code",
   "execution_count": 16,
   "metadata": {},
   "outputs": [],
   "source": [
    "image = '../figures/snakes.jpg'\n",
    "\n",
    "classifier = 'default' \n",
    "\n",
    "with open(image, 'rb') as image_file:\n",
    "    details = service.classify(images_file = image_file, \n",
    "                               threshold='0.6',\n",
    "                               classifier_ids=classifier)"
   ]
  },
  {
   "cell_type": "code",
   "execution_count": 17,
   "metadata": {},
   "outputs": [
    {
     "name": "stdout",
     "output_type": "stream",
     "text": [
      "{\n",
      "    \"result\": {\n",
      "        \"images\": [\n",
      "            {\n",
      "                \"classifiers\": [\n",
      "                    {\n",
      "                        \"classifier_id\": \"default\",\n",
      "                        \"name\": \"default\",\n",
      "                        \"classes\": [\n",
      "                            {\n",
      "                                \"class\": \"samosa\",\n",
      "                                \"score\": 0.965,\n",
      "                                \"type_hierarchy\": \"/food/nutrition/dish/turnover/samosa\"\n",
      "                            },\n",
      "                            {\n",
      "                                \"class\": \"turnover\",\n",
      "                                \"score\": 0.972\n",
      "                            },\n",
      "                            {\n",
      "                                \"class\": \"dish\",\n",
      "                                \"score\": 0.972\n",
      "                            },\n",
      "                            {\n",
      "                                \"class\": \"nutrition\",\n",
      "                                \"score\": 0.972\n",
      "                            },\n",
      "                            {\n",
      "                                \"class\": \"food\",\n",
      "                                \"score\": 0.972\n",
      "                            },\n",
      "                            {\n",
      "                                \"class\": \"light brown color\",\n",
      "                                \"score\": 0.982\n",
      "                            }\n",
      "                        ]\n",
      "                    }\n",
      "                ],\n",
      "                \"image\": \"snakes.jpg\"\n",
      "            }\n",
      "        ],\n",
      "        \"images_processed\": 1,\n",
      "        \"custom_classes\": 0\n",
      "    },\n",
      "    \"headers\": {\n",
      "        \"_store\": {\n",
      "            \"cache-control\": [\n",
      "                \"Cache-Control\",\n",
      "                \"no-cache, no-store\"\n",
      "            ],\n",
      "            \"content-length\": [\n",
      "                \"Content-Length\",\n",
      "                \"1309\"\n",
      "            ],\n",
      "            \"content-security-policy\": [\n",
      "                \"Content-Security-Policy\",\n",
      "                \"default-src 'none'\"\n",
      "            ],\n",
      "            \"content-type\": [\n",
      "                \"Content-Type\",\n",
      "                \"application/json\"\n",
      "            ],\n",
      "            \"expires\": [\n",
      "                \"Expires\",\n",
      "                \"0\"\n",
      "            ],\n",
      "            \"pragma\": [\n",
      "                \"Pragma\",\n",
      "                \"no-cache\"\n",
      "            ],\n",
      "            \"server\": [\n",
      "                \"Server\",\n",
      "                \"watson-gateway\"\n",
      "            ],\n",
      "            \"strict-transport-security\": [\n",
      "                \"strict-transport-security\",\n",
      "                \"max-age=31536000, max-age=31536000; includeSubDomains;\"\n",
      "            ],\n",
      "            \"x-content-type-options\": [\n",
      "                \"x-content-type-options\",\n",
      "                \"nosniff\"\n",
      "            ],\n",
      "            \"x-xss-protection\": [\n",
      "                \"x-xss-protection\",\n",
      "                \"1; mode=block\"\n",
      "            ],\n",
      "            \"x-dp-watson-tran-id\": [\n",
      "                \"x-dp-watson-tran-id\",\n",
      "                \"145c3204-d2b7-4f95-8208-7ce9afcd6da8\"\n",
      "            ],\n",
      "            \"x-request-id\": [\n",
      "                \"x-request-id\",\n",
      "                \"145c3204-d2b7-4f95-8208-7ce9afcd6da8\"\n",
      "            ],\n",
      "            \"x-global-transaction-id\": [\n",
      "                \"x-global-transaction-id\",\n",
      "                \"145c3204-d2b7-4f95-8208-7ce9afcd6da8\"\n",
      "            ],\n",
      "            \"x-edgeconnect-midmile-rtt\": [\n",
      "                \"X-EdgeConnect-MidMile-RTT\",\n",
      "                \"193\"\n",
      "            ],\n",
      "            \"x-edgeconnect-origin-mex-latency\": [\n",
      "                \"X-EdgeConnect-Origin-MEX-Latency\",\n",
      "                \"1022\"\n",
      "            ],\n",
      "            \"date\": [\n",
      "                \"Date\",\n",
      "                \"Mon, 30 Nov 2020 12:42:41 GMT\"\n",
      "            ],\n",
      "            \"connection\": [\n",
      "                \"Connection\",\n",
      "                \"keep-alive\"\n",
      "            ]\n",
      "        }\n",
      "    },\n",
      "    \"status_code\": 200\n",
      "}\n"
     ]
    }
   ],
   "source": [
    "print(details)"
   ]
  },
  {
   "cell_type": "code",
   "execution_count": 18,
   "metadata": {},
   "outputs": [
    {
     "name": "stdout",
     "output_type": "stream",
     "text": [
      "Cache-Control : no-cache, no-store\n",
      "Content-Length : 1309\n",
      "Content-Security-Policy : default-src 'none'\n",
      "Content-Type : application/json\n",
      "Expires : 0\n",
      "Pragma : no-cache\n",
      "Server : watson-gateway\n",
      "strict-transport-security : max-age=31536000, max-age=31536000; includeSubDomains;\n",
      "x-content-type-options : nosniff\n",
      "x-xss-protection : 1; mode=block\n",
      "x-dp-watson-tran-id : 145c3204-d2b7-4f95-8208-7ce9afcd6da8\n",
      "x-request-id : 145c3204-d2b7-4f95-8208-7ce9afcd6da8\n",
      "x-global-transaction-id : 145c3204-d2b7-4f95-8208-7ce9afcd6da8\n",
      "X-EdgeConnect-MidMile-RTT : 193\n",
      "X-EdgeConnect-Origin-MEX-Latency : 1022\n",
      "Date : Mon, 30 Nov 2020 12:42:41 GMT\n",
      "Connection : keep-alive\n"
     ]
    }
   ],
   "source": [
    "headers = details.get_headers()\n",
    "\n",
    "for header, value in headers.items():\n",
    "    print(header, ':', value)"
   ]
  },
  {
   "cell_type": "code",
   "execution_count": 19,
   "metadata": {},
   "outputs": [
    {
     "name": "stdout",
     "output_type": "stream",
     "text": [
      "The request succeeded.\n"
     ]
    }
   ],
   "source": [
    "def print_status(status):\n",
    "    if status == 200:\n",
    "        print('The request succeeded.')\n",
    "    elif status == 400:\n",
    "           print('Invalid request due to user input, such as a bad parameter.')\n",
    "    elif status == 401:\n",
    "        print('No API key or the key is not valid.')\n",
    "    elif status == 404:\n",
    "        print('Cannot find the requested classifier in this account.')\n",
    "\n",
    "\n",
    "status = details.get_status_code()\n",
    "print_status(status)"
   ]
  },
  {
   "cell_type": "code",
   "execution_count": 20,
   "metadata": {},
   "outputs": [
    {
     "name": "stdout",
     "output_type": "stream",
     "text": [
      "Image file name:  snakes.jpg\n",
      "Classifier ID:  default - Classifier Name:  default\n",
      "Class:  samosa - Score 0.965\n",
      "Class:  turnover - Score 0.972\n",
      "Class:  dish - Score 0.972\n",
      "Class:  nutrition - Score 0.972\n",
      "Class:  food - Score 0.972\n",
      "Class:  light brown color - Score 0.982\n"
     ]
    }
   ],
   "source": [
    "def print_results(results):\n",
    "    for image in results['images']:\n",
    "        print('Image file name: ', image['image'])\n",
    "        for classifier in image['classifiers']:\n",
    "            print('Classifier ID: ', classifier['classifier_id'], '- Classifier Name: ', classifier['name'])\n",
    "            for assignedClass in classifier['classes']:\n",
    "                print('Class: ', assignedClass['class'], '- Score', assignedClass['score'])\n",
    "\n",
    "results = details.get_result()\n",
    "print_results(results)"
   ]
  },
  {
   "cell_type": "markdown",
   "metadata": {},
   "source": [
    "#### This is our hometown snack, is the annual Dragon Boat Festival must eat food.\n",
    "#### From the classifier, I found that the score for food was very high."
   ]
  },
  {
   "cell_type": "code",
   "execution_count": 21,
   "metadata": {},
   "outputs": [],
   "source": [
    "image = '../figures/snakes.jpg'\n",
    "\n",
    "classifier = 'explicit' \n",
    "\n",
    "with open(image, 'rb') as image_file:\n",
    "    details = service.classify(images_file = image_file, \n",
    "                               threshold='0.6',\n",
    "                               classifier_ids=classifier)"
   ]
  },
  {
   "cell_type": "code",
   "execution_count": 22,
   "metadata": {},
   "outputs": [
    {
     "name": "stdout",
     "output_type": "stream",
     "text": [
      "The request succeeded.\n",
      "Image file name:  snakes.jpg\n",
      "Classifier ID:  explicit - Classifier Name:  explicit\n",
      "Class:  not explicit - Score 0.994\n"
     ]
    }
   ],
   "source": [
    "status = details.get_status_code()\n",
    "print_status(status)\n",
    "\n",
    "\n",
    "results = details.get_result()\n",
    "print_results(results)"
   ]
  },
  {
   "cell_type": "code",
   "execution_count": null,
   "metadata": {},
   "outputs": [],
   "source": []
  }
 ],
 "metadata": {
  "kernelspec": {
   "display_name": "Python 3",
   "language": "python",
   "name": "python3"
  },
  "language_info": {
   "codemirror_mode": {
    "name": "ipython",
    "version": 3
   },
   "file_extension": ".py",
   "mimetype": "text/x-python",
   "name": "python",
   "nbconvert_exporter": "python",
   "pygments_lexer": "ipython3",
   "version": "3.8.3"
  }
 },
 "nbformat": 4,
 "nbformat_minor": 4
}
